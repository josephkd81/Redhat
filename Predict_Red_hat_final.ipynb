{
 "cells": [
  {
   "cell_type": "code",
   "execution_count": 1,
   "metadata": {
    "collapsed": true
   },
   "outputs": [],
   "source": [
    "import pandas as pd\n",
    "import csv\n",
    "\n",
    "act_test = pd.read_csv('./data/act_test.csv', parse_dates=['date'])\n",
    "act_train = pd.read_csv('./data/act_train.csv', parse_dates=['date'])\n",
    "ppl = pd.read_csv('./data/people.csv', parse_dates=['date'])\n",
    "\n",
    "df_train = pd.merge(act_train, ppl, on='people_id', suffixes=('_act', '_ppl'))\n",
    "act_test['dummy']=0\n",
    "df_test = pd.merge(act_test, ppl, on='people_id', suffixes=('_act', '_ppl'))\n",
    "labels = df_train['outcome']"
   ]
  },
  {
   "cell_type": "code",
   "execution_count": 2,
   "metadata": {
    "collapsed": true
   },
   "outputs": [],
   "source": [
    "for table in [df_train]:\n",
    "        \n",
    "    table.insert(3, 'year_act', table['date_act'].dt.year)\n",
    "    table.insert(4, 'month_act',table['date_act'].dt.month)\n",
    "    table.insert(5, 'day_act', table['date_act'].dt.day)\n",
    "    table.insert(6, 'weekday_act', table['date_act'].dt.weekday)\n",
    "  \n",
    "    table.insert(19, 'year_ppl', table['date_ppl'].dt.year)\n",
    "    table.insert(20, 'month_ppl', table['date_ppl'].dt.month)\n",
    "    table.insert(21, 'day_ppl', table['date_ppl'].dt.day)\n",
    "    table.insert(22, 'weekday_ppl', table['date_ppl'].dt.weekday)\n",
    "    \n",
    "    table['from_join_to_act'] = (table['date_act'] - table['date_ppl']).astype('timedelta64[D]')\n",
    "    \n",
    "    del table['date_act']\n",
    "    del table['date_ppl']"
   ]
  },
  {
   "cell_type": "code",
   "execution_count": 3,
   "metadata": {
    "collapsed": true
   },
   "outputs": [],
   "source": [
    "for table in [df_test]:\n",
    "        \n",
    "    table.insert(3, 'year_act', table['date_act'].dt.year)\n",
    "    table.insert(4, 'month_act',table['date_act'].dt.month)\n",
    "    table.insert(5, 'day_act', table['date_act'].dt.day)\n",
    "    table.insert(6, 'weekday_act', table['date_act'].dt.weekday)\n",
    "  \n",
    "    table.insert(19, 'year_ppl', table['date_ppl'].dt.year)\n",
    "    table.insert(20, 'month_ppl', table['date_ppl'].dt.month)\n",
    "    table.insert(21, 'day_ppl', table['date_ppl'].dt.day)\n",
    "    table.insert(22, 'weekday_ppl', table['date_ppl'].dt.weekday)\n",
    "    \n",
    "    table['from_join_to_act'] = (table['date_act'] - table['date_ppl']).astype('timedelta64[D]')\n",
    "    \n",
    "    del table['date_act']\n",
    "    del table['date_ppl']"
   ]
  },
  {
   "cell_type": "code",
   "execution_count": 4,
   "metadata": {
    "collapsed": true
   },
   "outputs": [],
   "source": [
    "def preprocess_features(data, train_set=True, test_set=True):\n",
    "    \n",
    "    data = data.drop(['activity_id'], axis=1)\n",
    "    data['people_id'] = data['people_id'].apply(lambda x: x.split('_')[1])\n",
    "    data['people_id'] = pd.to_numeric(data['people_id']).astype(int)\n",
    "    \n",
    "    if(train_set):\n",
    "        data = data.drop(['outcome'], axis=1)\n",
    "        \n",
    "    else:\n",
    "        data = data.drop(['dummy'], axis=1)\n",
    "    \n",
    "    columns = list(data.columns)\n",
    "    bools = columns[30:58]\n",
    "    strings_act = columns[5:16]\n",
    "    strings_ppl = columns[20:30]\n",
    "    \n",
    "    for col in bools:\n",
    "        data[col] = pd.to_numeric(data[col]).astype(int)\n",
    "\n",
    "    for col in strings_act:\n",
    "        data[col] = data[col].fillna('type 0')\n",
    "        data[col] = data[col].apply(lambda x: x.split(' ')[1])\n",
    "        data[col] = pd.to_numeric(data[col].astype(int))\n",
    "        \n",
    "    for col in strings_ppl:\n",
    "        data[col] = data[col].fillna('type 0')\n",
    "        data[col] = data[col].apply(lambda x: x.split(' ')[1])\n",
    "        data[col] = pd.to_numeric(data[col].astype(int))\n",
    "        \n",
    "    return data"
   ]
  },
  {
   "cell_type": "code",
   "execution_count": 5,
   "metadata": {
    "collapsed": true
   },
   "outputs": [],
   "source": [
    "feature_train = preprocess_features(df_train)\n",
    "feature_test = preprocess_features(df_test, train_set=False)"
   ]
  },
  {
   "cell_type": "code",
   "execution_count": 6,
   "metadata": {},
   "outputs": [
    {
     "name": "stderr",
     "output_type": "stream",
     "text": [
      "/anaconda3/lib/python3.6/site-packages/sklearn/cross_validation.py:41: DeprecationWarning: This module was deprecated in version 0.18 in favor of the model_selection module into which all the refactored classes and functions are moved. Also note that the interface of the new CV iterators are different from that of this module. This module will be removed in 0.20.\n",
      "  \"This module will be removed in 0.20.\", DeprecationWarning)\n"
     ]
    }
   ],
   "source": [
    "# reference: https://www.kaggle.com/anokas/redhatxgb-bb505a62\n",
    "\n",
    "from sklearn.cross_validation import LabelKFold\n",
    "import numpy as np\n",
    "\n",
    "train_mask, valid_mask = list(LabelKFold(feature_train['people_id'], n_folds=10))[0]\n",
    "\n",
    "feature_test = feature_test.drop(['people_id'],axis=1)\n",
    "feature_train = feature_train.drop(['people_id'], axis=1)\n",
    "\n",
    "x_train = np.array(feature_train)[train_mask]\n",
    "y_train = np.array(labels)[train_mask]\n",
    "\n",
    "x_valid = np.array(feature_train)[valid_mask]\n",
    "y_valid = np.array(labels)[valid_mask]"
   ]
  },
  {
   "cell_type": "code",
   "execution_count": 7,
   "metadata": {
    "collapsed": true
   },
   "outputs": [],
   "source": [
    "# parameter tuning on XGBoost\n",
    "# reference : https://www.analyticsvidhya.com/blog/2016/03/complete-guide-parameter-tuning-xgboost-with-codes-python/\n",
    "\n",
    "params = {}\n",
    "params['objective'] = 'binary:logistic'\n",
    "params['eval_metric'] = 'auc'\n",
    "params['eta'] = 0.1\n",
    "params['max_depth'] = 20\n",
    "params['subsample'] = 0.9\n",
    "params['colsample_bytree'] = 0.9"
   ]
  },
  {
   "cell_type": "code",
   "execution_count": 8,
   "metadata": {
    "collapsed": true
   },
   "outputs": [],
   "source": [
    "import xgboost as xgb\n",
    "\n",
    "d_train = xgb.DMatrix(x_train, label=y_train)\n",
    "d_valid = xgb.DMatrix(x_valid, label=y_valid)\n",
    "\n",
    "watchlist = [(d_train, 'train'), (d_valid, 'valid')]"
   ]
  },
  {
   "cell_type": "code",
   "execution_count": 9,
   "metadata": {},
   "outputs": [
    {
     "name": "stdout",
     "output_type": "stream",
     "text": [
      "[0]\ttrain-auc:0.993351\tvalid-auc:0.964933\n",
      "Multiple eval metrics have been passed: 'valid-auc' will be used for early stopping.\n",
      "\n",
      "Will train until valid-auc hasn't improved in 40 rounds.\n",
      "[1]\ttrain-auc:0.99672\tvalid-auc:0.967792\n",
      "[2]\ttrain-auc:0.997698\tvalid-auc:0.969695\n",
      "[3]\ttrain-auc:0.998331\tvalid-auc:0.971227\n",
      "[4]\ttrain-auc:0.998782\tvalid-auc:0.972516\n",
      "[5]\ttrain-auc:0.998955\tvalid-auc:0.973261\n",
      "[6]\ttrain-auc:0.999041\tvalid-auc:0.974122\n",
      "[7]\ttrain-auc:0.9991\tvalid-auc:0.974395\n",
      "[8]\ttrain-auc:0.999262\tvalid-auc:0.974711\n",
      "[9]\ttrain-auc:0.999354\tvalid-auc:0.975073\n",
      "[10]\ttrain-auc:0.999419\tvalid-auc:0.975291\n",
      "[11]\ttrain-auc:0.999502\tvalid-auc:0.975249\n",
      "[12]\ttrain-auc:0.999539\tvalid-auc:0.975784\n",
      "[13]\ttrain-auc:0.99958\tvalid-auc:0.976311\n",
      "[14]\ttrain-auc:0.999624\tvalid-auc:0.976443\n",
      "[15]\ttrain-auc:0.999667\tvalid-auc:0.977109\n",
      "[16]\ttrain-auc:0.999702\tvalid-auc:0.97755\n",
      "[17]\ttrain-auc:0.999726\tvalid-auc:0.977908\n",
      "[18]\ttrain-auc:0.999752\tvalid-auc:0.978182\n",
      "[19]\ttrain-auc:0.999773\tvalid-auc:0.97838\n",
      "[20]\ttrain-auc:0.999795\tvalid-auc:0.978344\n",
      "[21]\ttrain-auc:0.999807\tvalid-auc:0.978434\n",
      "[22]\ttrain-auc:0.999816\tvalid-auc:0.978726\n",
      "[23]\ttrain-auc:0.999831\tvalid-auc:0.978854\n",
      "[24]\ttrain-auc:0.999841\tvalid-auc:0.978874\n",
      "[25]\ttrain-auc:0.999851\tvalid-auc:0.978922\n",
      "[26]\ttrain-auc:0.999862\tvalid-auc:0.979083\n",
      "[27]\ttrain-auc:0.99987\tvalid-auc:0.979262\n",
      "[28]\ttrain-auc:0.999876\tvalid-auc:0.979354\n",
      "[29]\ttrain-auc:0.999881\tvalid-auc:0.979494\n",
      "[30]\ttrain-auc:0.999897\tvalid-auc:0.979493\n",
      "[31]\ttrain-auc:0.999907\tvalid-auc:0.97964\n",
      "[32]\ttrain-auc:0.999912\tvalid-auc:0.979778\n",
      "[33]\ttrain-auc:0.999917\tvalid-auc:0.979877\n",
      "[34]\ttrain-auc:0.999926\tvalid-auc:0.980031\n",
      "[35]\ttrain-auc:0.999933\tvalid-auc:0.980009\n",
      "[36]\ttrain-auc:0.999937\tvalid-auc:0.980083\n",
      "[37]\ttrain-auc:0.99994\tvalid-auc:0.98015\n",
      "[38]\ttrain-auc:0.999944\tvalid-auc:0.980167\n",
      "[39]\ttrain-auc:0.999946\tvalid-auc:0.980211\n",
      "[40]\ttrain-auc:0.999948\tvalid-auc:0.980278\n",
      "[41]\ttrain-auc:0.999951\tvalid-auc:0.980386\n",
      "[42]\ttrain-auc:0.999953\tvalid-auc:0.980441\n",
      "[43]\ttrain-auc:0.999958\tvalid-auc:0.980478\n",
      "[44]\ttrain-auc:0.99996\tvalid-auc:0.980488\n",
      "[45]\ttrain-auc:0.999961\tvalid-auc:0.980528\n",
      "[46]\ttrain-auc:0.999964\tvalid-auc:0.980585\n",
      "[47]\ttrain-auc:0.999965\tvalid-auc:0.980625\n",
      "[48]\ttrain-auc:0.999967\tvalid-auc:0.980632\n",
      "[49]\ttrain-auc:0.999969\tvalid-auc:0.980639\n",
      "[50]\ttrain-auc:0.999973\tvalid-auc:0.980667\n",
      "[51]\ttrain-auc:0.999976\tvalid-auc:0.980709\n",
      "[52]\ttrain-auc:0.999978\tvalid-auc:0.980734\n",
      "[53]\ttrain-auc:0.999979\tvalid-auc:0.980755\n",
      "[54]\ttrain-auc:0.99998\tvalid-auc:0.980783\n",
      "[55]\ttrain-auc:0.99998\tvalid-auc:0.980812\n",
      "[56]\ttrain-auc:0.999981\tvalid-auc:0.980925\n",
      "[57]\ttrain-auc:0.999983\tvalid-auc:0.980944\n",
      "[58]\ttrain-auc:0.999984\tvalid-auc:0.980978\n",
      "[59]\ttrain-auc:0.999985\tvalid-auc:0.981\n",
      "[60]\ttrain-auc:0.999985\tvalid-auc:0.981014\n",
      "[61]\ttrain-auc:0.999986\tvalid-auc:0.981002\n",
      "[62]\ttrain-auc:0.999987\tvalid-auc:0.981013\n",
      "[63]\ttrain-auc:0.999988\tvalid-auc:0.981005\n",
      "[64]\ttrain-auc:0.999988\tvalid-auc:0.980987\n",
      "[65]\ttrain-auc:0.999989\tvalid-auc:0.981016\n",
      "[66]\ttrain-auc:0.99999\tvalid-auc:0.980997\n",
      "[67]\ttrain-auc:0.999991\tvalid-auc:0.981012\n",
      "[68]\ttrain-auc:0.999992\tvalid-auc:0.981065\n",
      "[69]\ttrain-auc:0.999992\tvalid-auc:0.981077\n",
      "[70]\ttrain-auc:0.999993\tvalid-auc:0.981068\n",
      "[71]\ttrain-auc:0.999993\tvalid-auc:0.98107\n",
      "[72]\ttrain-auc:0.999994\tvalid-auc:0.981118\n",
      "[73]\ttrain-auc:0.999994\tvalid-auc:0.981168\n",
      "[74]\ttrain-auc:0.999994\tvalid-auc:0.981196\n",
      "[75]\ttrain-auc:0.999995\tvalid-auc:0.981207\n",
      "[76]\ttrain-auc:0.999995\tvalid-auc:0.981245\n",
      "[77]\ttrain-auc:0.999995\tvalid-auc:0.981268\n",
      "[78]\ttrain-auc:0.999995\tvalid-auc:0.9813\n",
      "[79]\ttrain-auc:0.999995\tvalid-auc:0.981328\n",
      "[80]\ttrain-auc:0.999995\tvalid-auc:0.981336\n",
      "[81]\ttrain-auc:0.999996\tvalid-auc:0.98133\n",
      "[82]\ttrain-auc:0.999996\tvalid-auc:0.981296\n",
      "[83]\ttrain-auc:0.999996\tvalid-auc:0.981309\n",
      "[84]\ttrain-auc:0.999996\tvalid-auc:0.98133\n",
      "[85]\ttrain-auc:0.999996\tvalid-auc:0.98136\n",
      "[86]\ttrain-auc:0.999997\tvalid-auc:0.981393\n",
      "[87]\ttrain-auc:0.999997\tvalid-auc:0.981393\n",
      "[88]\ttrain-auc:0.999997\tvalid-auc:0.981424\n",
      "[89]\ttrain-auc:0.999997\tvalid-auc:0.981437\n",
      "[90]\ttrain-auc:0.999997\tvalid-auc:0.981449\n",
      "[91]\ttrain-auc:0.999997\tvalid-auc:0.981442\n",
      "[92]\ttrain-auc:0.999997\tvalid-auc:0.981456\n",
      "[93]\ttrain-auc:0.999997\tvalid-auc:0.981468\n",
      "[94]\ttrain-auc:0.999998\tvalid-auc:0.981451\n",
      "[95]\ttrain-auc:0.999998\tvalid-auc:0.981481\n",
      "[96]\ttrain-auc:0.999998\tvalid-auc:0.981503\n",
      "[97]\ttrain-auc:0.999998\tvalid-auc:0.981498\n",
      "[98]\ttrain-auc:0.999998\tvalid-auc:0.981505\n",
      "[99]\ttrain-auc:0.999998\tvalid-auc:0.981493\n",
      "[100]\ttrain-auc:0.999998\tvalid-auc:0.98151\n",
      "[101]\ttrain-auc:0.999999\tvalid-auc:0.981531\n",
      "[102]\ttrain-auc:0.999999\tvalid-auc:0.981565\n",
      "[103]\ttrain-auc:0.999999\tvalid-auc:0.981567\n",
      "[104]\ttrain-auc:0.999999\tvalid-auc:0.981573\n",
      "[105]\ttrain-auc:0.999999\tvalid-auc:0.981593\n",
      "[106]\ttrain-auc:0.999999\tvalid-auc:0.981631\n",
      "[107]\ttrain-auc:0.999999\tvalid-auc:0.981658\n",
      "[108]\ttrain-auc:0.999999\tvalid-auc:0.981651\n",
      "[109]\ttrain-auc:0.999999\tvalid-auc:0.981673\n",
      "[110]\ttrain-auc:0.999999\tvalid-auc:0.981681\n",
      "[111]\ttrain-auc:0.999999\tvalid-auc:0.981691\n",
      "[112]\ttrain-auc:0.999999\tvalid-auc:0.981732\n",
      "[113]\ttrain-auc:0.999999\tvalid-auc:0.981722\n",
      "[114]\ttrain-auc:0.999999\tvalid-auc:0.981762\n",
      "[115]\ttrain-auc:0.999999\tvalid-auc:0.981773\n",
      "[116]\ttrain-auc:0.999999\tvalid-auc:0.98179\n",
      "[117]\ttrain-auc:0.999999\tvalid-auc:0.981817\n",
      "[118]\ttrain-auc:0.999999\tvalid-auc:0.981813\n",
      "[119]\ttrain-auc:0.999999\tvalid-auc:0.981828\n",
      "[120]\ttrain-auc:0.999999\tvalid-auc:0.981835\n",
      "[121]\ttrain-auc:0.999999\tvalid-auc:0.981891\n",
      "[122]\ttrain-auc:0.999999\tvalid-auc:0.98191\n",
      "[123]\ttrain-auc:0.999999\tvalid-auc:0.981934\n",
      "[124]\ttrain-auc:0.999999\tvalid-auc:0.981941\n",
      "[125]\ttrain-auc:0.999999\tvalid-auc:0.981929\n",
      "[126]\ttrain-auc:0.999999\tvalid-auc:0.981932\n",
      "[127]\ttrain-auc:1\tvalid-auc:0.981924\n",
      "[128]\ttrain-auc:1\tvalid-auc:0.981929\n",
      "[129]\ttrain-auc:1\tvalid-auc:0.981921\n",
      "[130]\ttrain-auc:1\tvalid-auc:0.981923\n",
      "[131]\ttrain-auc:1\tvalid-auc:0.981898\n",
      "[132]\ttrain-auc:1\tvalid-auc:0.981908\n",
      "[133]\ttrain-auc:1\tvalid-auc:0.981918\n",
      "[134]\ttrain-auc:1\tvalid-auc:0.981911\n",
      "[135]\ttrain-auc:1\tvalid-auc:0.98193\n",
      "[136]\ttrain-auc:1\tvalid-auc:0.981943\n",
      "[137]\ttrain-auc:1\tvalid-auc:0.981932\n",
      "[138]\ttrain-auc:1\tvalid-auc:0.981927\n",
      "[139]\ttrain-auc:1\tvalid-auc:0.981934\n",
      "[140]\ttrain-auc:1\tvalid-auc:0.981947\n",
      "[141]\ttrain-auc:1\tvalid-auc:0.981943\n",
      "[142]\ttrain-auc:1\tvalid-auc:0.981939\n",
      "[143]\ttrain-auc:1\tvalid-auc:0.981954\n",
      "[144]\ttrain-auc:1\tvalid-auc:0.981965\n",
      "[145]\ttrain-auc:1\tvalid-auc:0.981973\n",
      "[146]\ttrain-auc:1\tvalid-auc:0.981968\n",
      "[147]\ttrain-auc:1\tvalid-auc:0.981984\n",
      "[148]\ttrain-auc:1\tvalid-auc:0.981997\n",
      "[149]\ttrain-auc:1\tvalid-auc:0.981993\n",
      "[150]\ttrain-auc:1\tvalid-auc:0.981999\n",
      "[151]\ttrain-auc:1\tvalid-auc:0.982003\n",
      "[152]\ttrain-auc:1\tvalid-auc:0.982001\n",
      "[153]\ttrain-auc:1\tvalid-auc:0.981988\n",
      "[154]\ttrain-auc:1\tvalid-auc:0.981974\n",
      "[155]\ttrain-auc:1\tvalid-auc:0.981975\n",
      "[156]\ttrain-auc:1\tvalid-auc:0.981995\n",
      "[157]\ttrain-auc:1\tvalid-auc:0.981991\n",
      "[158]\ttrain-auc:1\tvalid-auc:0.982004\n",
      "[159]\ttrain-auc:1\tvalid-auc:0.982018\n",
      "[160]\ttrain-auc:1\tvalid-auc:0.982019\n",
      "[161]\ttrain-auc:1\tvalid-auc:0.982022\n",
      "[162]\ttrain-auc:1\tvalid-auc:0.982022\n",
      "[163]\ttrain-auc:1\tvalid-auc:0.982022\n",
      "[164]\ttrain-auc:1\tvalid-auc:0.982039\n",
      "[165]\ttrain-auc:1\tvalid-auc:0.982055\n",
      "[166]\ttrain-auc:1\tvalid-auc:0.982056\n",
      "[167]\ttrain-auc:1\tvalid-auc:0.982059\n",
      "[168]\ttrain-auc:1\tvalid-auc:0.982029\n",
      "[169]\ttrain-auc:1\tvalid-auc:0.982026\n",
      "[170]\ttrain-auc:1\tvalid-auc:0.982026\n",
      "[171]\ttrain-auc:1\tvalid-auc:0.982037\n",
      "[172]\ttrain-auc:1\tvalid-auc:0.982053\n",
      "[173]\ttrain-auc:1\tvalid-auc:0.982077\n",
      "[174]\ttrain-auc:1\tvalid-auc:0.982082\n",
      "[175]\ttrain-auc:1\tvalid-auc:0.982077\n",
      "[176]\ttrain-auc:1\tvalid-auc:0.982082\n",
      "[177]\ttrain-auc:1\tvalid-auc:0.982085\n",
      "[178]\ttrain-auc:1\tvalid-auc:0.982099\n",
      "[179]\ttrain-auc:1\tvalid-auc:0.982086\n",
      "[180]\ttrain-auc:1\tvalid-auc:0.982109\n",
      "[181]\ttrain-auc:1\tvalid-auc:0.982105\n",
      "[182]\ttrain-auc:1\tvalid-auc:0.982108\n",
      "[183]\ttrain-auc:1\tvalid-auc:0.982122\n",
      "[184]\ttrain-auc:1\tvalid-auc:0.982117\n",
      "[185]\ttrain-auc:1\tvalid-auc:0.982117\n",
      "[186]\ttrain-auc:1\tvalid-auc:0.982127\n",
      "[187]\ttrain-auc:1\tvalid-auc:0.982123\n",
      "[188]\ttrain-auc:1\tvalid-auc:0.98213\n",
      "[189]\ttrain-auc:1\tvalid-auc:0.982139\n",
      "[190]\ttrain-auc:1\tvalid-auc:0.982116\n",
      "[191]\ttrain-auc:1\tvalid-auc:0.982118\n",
      "[192]\ttrain-auc:1\tvalid-auc:0.982139\n",
      "[193]\ttrain-auc:1\tvalid-auc:0.982144\n",
      "[194]\ttrain-auc:1\tvalid-auc:0.98214\n",
      "[195]\ttrain-auc:1\tvalid-auc:0.982146\n",
      "[196]\ttrain-auc:1\tvalid-auc:0.982139\n",
      "[197]\ttrain-auc:1\tvalid-auc:0.982154\n"
     ]
    },
    {
     "name": "stdout",
     "output_type": "stream",
     "text": [
      "[198]\ttrain-auc:1\tvalid-auc:0.982165\n",
      "[199]\ttrain-auc:1\tvalid-auc:0.982197\n",
      "[200]\ttrain-auc:1\tvalid-auc:0.982185\n",
      "[201]\ttrain-auc:1\tvalid-auc:0.982186\n",
      "[202]\ttrain-auc:1\tvalid-auc:0.982193\n",
      "[203]\ttrain-auc:1\tvalid-auc:0.982207\n",
      "[204]\ttrain-auc:1\tvalid-auc:0.982211\n",
      "[205]\ttrain-auc:1\tvalid-auc:0.98222\n",
      "[206]\ttrain-auc:1\tvalid-auc:0.982216\n",
      "[207]\ttrain-auc:1\tvalid-auc:0.982235\n",
      "[208]\ttrain-auc:1\tvalid-auc:0.982225\n",
      "[209]\ttrain-auc:1\tvalid-auc:0.982216\n",
      "[210]\ttrain-auc:1\tvalid-auc:0.982212\n",
      "[211]\ttrain-auc:1\tvalid-auc:0.982199\n",
      "[212]\ttrain-auc:1\tvalid-auc:0.982191\n",
      "[213]\ttrain-auc:1\tvalid-auc:0.982197\n",
      "[214]\ttrain-auc:1\tvalid-auc:0.982202\n",
      "[215]\ttrain-auc:1\tvalid-auc:0.982203\n",
      "[216]\ttrain-auc:1\tvalid-auc:0.982206\n",
      "[217]\ttrain-auc:1\tvalid-auc:0.982214\n",
      "[218]\ttrain-auc:1\tvalid-auc:0.982206\n",
      "[219]\ttrain-auc:1\tvalid-auc:0.98221\n",
      "[220]\ttrain-auc:1\tvalid-auc:0.982206\n",
      "[221]\ttrain-auc:1\tvalid-auc:0.982217\n",
      "[222]\ttrain-auc:1\tvalid-auc:0.982219\n",
      "[223]\ttrain-auc:1\tvalid-auc:0.98222\n",
      "[224]\ttrain-auc:1\tvalid-auc:0.982222\n",
      "[225]\ttrain-auc:1\tvalid-auc:0.98222\n",
      "[226]\ttrain-auc:1\tvalid-auc:0.982217\n",
      "[227]\ttrain-auc:1\tvalid-auc:0.982205\n",
      "[228]\ttrain-auc:1\tvalid-auc:0.982204\n",
      "[229]\ttrain-auc:1\tvalid-auc:0.982203\n",
      "[230]\ttrain-auc:1\tvalid-auc:0.982202\n",
      "[231]\ttrain-auc:1\tvalid-auc:0.982205\n",
      "[232]\ttrain-auc:1\tvalid-auc:0.982205\n",
      "[233]\ttrain-auc:1\tvalid-auc:0.982207\n",
      "[234]\ttrain-auc:1\tvalid-auc:0.9822\n",
      "[235]\ttrain-auc:1\tvalid-auc:0.982199\n",
      "[236]\ttrain-auc:1\tvalid-auc:0.982203\n",
      "[237]\ttrain-auc:1\tvalid-auc:0.982207\n",
      "[238]\ttrain-auc:1\tvalid-auc:0.982213\n",
      "[239]\ttrain-auc:1\tvalid-auc:0.982222\n",
      "[240]\ttrain-auc:1\tvalid-auc:0.982201\n",
      "[241]\ttrain-auc:1\tvalid-auc:0.982199\n",
      "[242]\ttrain-auc:1\tvalid-auc:0.982196\n",
      "[243]\ttrain-auc:1\tvalid-auc:0.982184\n",
      "[244]\ttrain-auc:1\tvalid-auc:0.982188\n",
      "[245]\ttrain-auc:1\tvalid-auc:0.982189\n",
      "[246]\ttrain-auc:1\tvalid-auc:0.982186\n",
      "[247]\ttrain-auc:1\tvalid-auc:0.982181\n",
      "Stopping. Best iteration:\n",
      "[207]\ttrain-auc:1\tvalid-auc:0.982235\n",
      "\n",
      "CPU times: user 2h 33min 14s, sys: 28.8 s, total: 2h 33min 42s\n",
      "Wall time: 19min 54s\n"
     ]
    }
   ],
   "source": [
    "%%time\n",
    "\n",
    "# reference : http://xgboost.readthedocs.io/en/latest/python/python_api.html\n",
    "\n",
    "clf = xgb.train(params, d_train, 2000, watchlist, early_stopping_rounds=40)"
   ]
  },
  {
   "cell_type": "code",
   "execution_count": 10,
   "metadata": {
    "collapsed": true
   },
   "outputs": [],
   "source": [
    "# make an outcome to submit\n",
    "p_test = clf.predict(xgb.DMatrix(np.array(feature_test)))\n",
    "\n",
    "sub = pd.DataFrame()\n",
    "sub['activity_id'] = df_test['activity_id']\n",
    "sub['outcome'] = p_test\n",
    "sub.to_csv('submit.csv', index=False)"
   ]
  },
  {
   "cell_type": "code",
   "execution_count": 14,
   "metadata": {},
   "outputs": [
    {
     "ename": "NameError",
     "evalue": "name 'operator' is not defined",
     "output_type": "error",
     "traceback": [
      "\u001b[0;31m---------------------------------------------------------------------------\u001b[0m",
      "\u001b[0;31mNameError\u001b[0m                                 Traceback (most recent call last)",
      "\u001b[0;32m<ipython-input-14-62c779e0f9e7>\u001b[0m in \u001b[0;36m<module>\u001b[0;34m()\u001b[0m\n\u001b[1;32m      1\u001b[0m \u001b[0mimportance\u001b[0m \u001b[0;34m=\u001b[0m \u001b[0mclf\u001b[0m\u001b[0;34m.\u001b[0m\u001b[0mget_fscore\u001b[0m\u001b[0;34m(\u001b[0m\u001b[0;34m)\u001b[0m\u001b[0;34m\u001b[0m\u001b[0m\n\u001b[0;32m----> 2\u001b[0;31m \u001b[0mimportance\u001b[0m \u001b[0;34m=\u001b[0m \u001b[0msorted\u001b[0m\u001b[0;34m(\u001b[0m\u001b[0mimportance\u001b[0m\u001b[0;34m.\u001b[0m\u001b[0mitems\u001b[0m\u001b[0;34m(\u001b[0m\u001b[0;34m)\u001b[0m\u001b[0;34m,\u001b[0m \u001b[0mkey\u001b[0m\u001b[0;34m=\u001b[0m\u001b[0moperator\u001b[0m\u001b[0;34m.\u001b[0m\u001b[0mitemgetter\u001b[0m\u001b[0;34m(\u001b[0m\u001b[0;36m1\u001b[0m\u001b[0;34m)\u001b[0m\u001b[0;34m)\u001b[0m\u001b[0;34m\u001b[0m\u001b[0m\n\u001b[0m\u001b[1;32m      3\u001b[0m \u001b[0;34m\u001b[0m\u001b[0m\n\u001b[1;32m      4\u001b[0m \u001b[0mdf\u001b[0m \u001b[0;34m=\u001b[0m \u001b[0mpd\u001b[0m\u001b[0;34m.\u001b[0m\u001b[0mDataFrame\u001b[0m\u001b[0;34m(\u001b[0m\u001b[0mimportance\u001b[0m\u001b[0;34m,\u001b[0m \u001b[0mcolumns\u001b[0m\u001b[0;34m=\u001b[0m\u001b[0;34m[\u001b[0m\u001b[0;34m'feature'\u001b[0m\u001b[0;34m,\u001b[0m \u001b[0;34m'fscore'\u001b[0m\u001b[0;34m]\u001b[0m\u001b[0;34m)\u001b[0m\u001b[0;34m\u001b[0m\u001b[0m\n\u001b[1;32m      5\u001b[0m \u001b[0mdf\u001b[0m\u001b[0;34m[\u001b[0m\u001b[0;34m'fscore'\u001b[0m\u001b[0;34m]\u001b[0m \u001b[0;34m=\u001b[0m \u001b[0mdf\u001b[0m\u001b[0;34m[\u001b[0m\u001b[0;34m'fscore'\u001b[0m\u001b[0;34m]\u001b[0m \u001b[0;34m/\u001b[0m \u001b[0mdf\u001b[0m\u001b[0;34m[\u001b[0m\u001b[0;34m'fscore'\u001b[0m\u001b[0;34m]\u001b[0m\u001b[0;34m.\u001b[0m\u001b[0msum\u001b[0m\u001b[0;34m(\u001b[0m\u001b[0;34m)\u001b[0m\u001b[0;34m\u001b[0m\u001b[0m\n",
      "\u001b[0;31mNameError\u001b[0m: name 'operator' is not defined"
     ]
    }
   ],
   "source": [
    "importance = clf.get_fscore()\n",
    "importance = sorted(importance.items(), key=operator.itemgetter(1))\n",
    "\n",
    "df = pd.DataFrame(importance, columns=['feature', 'fscore'])\n",
    "df['fscore'] = df['fscore'] / df['fscore'].sum()\n",
    "\n",
    "plt.figure()\n",
    "df.plot()\n",
    "df.plot(kind='barh', x='feature', y='fscore', legend=False, figsize=(6, 10))\n",
    "plt.title('XGBoost Feature Importance')\n",
    "plt.xlabel('relative importance')\n",
    "plt.gcf().savefig('feature_importance_xgb.png')"
   ]
  },
  {
   "cell_type": "code",
   "execution_count": null,
   "metadata": {
    "collapsed": true
   },
   "outputs": [],
   "source": []
  },
  {
   "cell_type": "code",
   "execution_count": null,
   "metadata": {
    "collapsed": true
   },
   "outputs": [],
   "source": []
  },
  {
   "cell_type": "code",
   "execution_count": null,
   "metadata": {
    "collapsed": true
   },
   "outputs": [],
   "source": []
  },
  {
   "cell_type": "code",
   "execution_count": 12,
   "metadata": {},
   "outputs": [
    {
     "ename": "AttributeError",
     "evalue": "'Booster' object has no attribute 'best_estimator_'",
     "output_type": "error",
     "traceback": [
      "\u001b[0;31m---------------------------------------------------------------------------\u001b[0m",
      "\u001b[0;31mAttributeError\u001b[0m                            Traceback (most recent call last)",
      "\u001b[0;32m<ipython-input-12-0ce19b360eb2>\u001b[0m in \u001b[0;36m<module>\u001b[0;34m()\u001b[0m\n\u001b[0;32m----> 1\u001b[0;31m \u001b[0mfscore\u001b[0m \u001b[0;34m=\u001b[0m \u001b[0mclf\u001b[0m\u001b[0;34m.\u001b[0m\u001b[0mbest_estimator_\u001b[0m\u001b[0;34m.\u001b[0m\u001b[0mbooster\u001b[0m\u001b[0;34m(\u001b[0m\u001b[0;34m)\u001b[0m\u001b[0;34m.\u001b[0m\u001b[0mget_fscore\u001b[0m\u001b[0;34m(\u001b[0m\u001b[0;34m)\u001b[0m\u001b[0;34m\u001b[0m\u001b[0m\n\u001b[0m",
      "\u001b[0;31mAttributeError\u001b[0m: 'Booster' object has no attribute 'best_estimator_'"
     ]
    }
   ],
   "source": [
    "fscore = clf.best_estimator_.booster().get_fscore()"
   ]
  },
  {
   "cell_type": "code",
   "execution_count": 11,
   "metadata": {},
   "outputs": [
    {
     "ename": "AttributeError",
     "evalue": "'Booster' object has no attribute 'feature_importances_'",
     "output_type": "error",
     "traceback": [
      "\u001b[0;31m---------------------------------------------------------------------------\u001b[0m",
      "\u001b[0;31mAttributeError\u001b[0m                            Traceback (most recent call last)",
      "\u001b[0;32m<ipython-input-11-abce94e681e4>\u001b[0m in \u001b[0;36m<module>\u001b[0;34m()\u001b[0m\n\u001b[0;32m----> 1\u001b[0;31m \u001b[0mprint\u001b[0m\u001b[0;34m(\u001b[0m\u001b[0mclf\u001b[0m\u001b[0;34m.\u001b[0m\u001b[0mfeature_importances_\u001b[0m\u001b[0;34m)\u001b[0m\u001b[0;34m\u001b[0m\u001b[0m\n\u001b[0m",
      "\u001b[0;31mAttributeError\u001b[0m: 'Booster' object has no attribute 'feature_importances_'"
     ]
    }
   ],
   "source": [
    "print(clf.feature_importances_)"
   ]
  },
  {
   "cell_type": "code",
   "execution_count": null,
   "metadata": {
    "collapsed": true
   },
   "outputs": [],
   "source": []
  },
  {
   "cell_type": "code",
   "execution_count": null,
   "metadata": {
    "collapsed": true
   },
   "outputs": [],
   "source": [
    "'''Feature importance analysis code'''\n",
    "'''Reference: Python Machine Learning'''\n",
    "feat_labels = np.array(dfX6.columns)\n",
    "forest = RandomForestClassifier(n_estimators=1000, random_state=0, n_jobs = 3)\n",
    "forest.fit(dfX_train, dfY_train)\n",
    "\n",
    "importances = forest.feature_importances_\n",
    "indices = np.argsort(importances)[::-1]\n",
    "indices = indices[:30]\n",
    "\n",
    "for f in range(len(indices)):\n",
    "    print(\"%2d %-*s %f\" % (f + 1, 30, feat_labels[indices[f]], importances[indices[f]] ))\n",
    "\n",
    "plt.figure(figsize = (9, 7))\n",
    "plt.title(\"Feature importances\")\n",
    "plt.bar(range(len(indices)), importances[indices])\n",
    "plt.xticks(range(len(indices)), feat_labels[indices], rotation=90)\n",
    "plt.tight_layout()\n",
    "plt.show()"
   ]
  }
 ],
 "metadata": {
  "kernelspec": {
   "display_name": "Python 3",
   "language": "python",
   "name": "python3"
  },
  "language_info": {
   "codemirror_mode": {
    "name": "ipython",
    "version": 3
   },
   "file_extension": ".py",
   "mimetype": "text/x-python",
   "name": "python",
   "nbconvert_exporter": "python",
   "pygments_lexer": "ipython3",
   "version": "3.6.3"
  }
 },
 "nbformat": 4,
 "nbformat_minor": 2
}
